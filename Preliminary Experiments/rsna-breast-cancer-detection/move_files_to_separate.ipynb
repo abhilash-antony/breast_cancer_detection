{
 "cells": [
  {
   "cell_type": "markdown",
   "metadata": {},
   "source": [
    "## Moving images to respective folders"
   ]
  },
  {
   "cell_type": "code",
   "execution_count": null,
   "metadata": {},
   "outputs": [],
   "source": [
    "import os\n",
    "import shutil\n",
    "import pandas as pd\n",
    "from sklearn.model_selection import train_test_split\n",
    "\n",
    "# Load the dataset\n",
    "df = pd.read_csv(\"RSNA_breast_cancer_data.csv\")"
   ]
  },
  {
   "cell_type": "code",
   "execution_count": null,
   "metadata": {},
   "outputs": [
    {
     "name": "stdout",
     "output_type": "stream",
     "text": [
      "cancer\n",
      "0    1218\n",
      "1    1156\n",
      "Name: count, dtype: int64\n"
     ]
    }
   ],
   "source": [
    "# Check the distribution of the classes before splitting\n",
    "print(df['cancer'].value_counts())"
   ]
  },
  {
   "cell_type": "code",
   "execution_count": null,
   "metadata": {},
   "outputs": [],
   "source": [
    "# Split the dataset into train, test, and validation sets while maintaining class balance\n",
    "train_df, test_df = train_test_split(df, test_size=0.2, stratify=df['cancer'], random_state=42)\n",
    "train_df, val_df = train_test_split(train_df, test_size=0.2, stratify=train_df['cancer'], random_state=42)"
   ]
  },
  {
   "cell_type": "code",
   "execution_count": null,
   "metadata": {},
   "outputs": [
    {
     "name": "stdout",
     "output_type": "stream",
     "text": [
      "Train set class distribution:\n",
      " cancer\n",
      "0    779\n",
      "1    740\n",
      "Name: count, dtype: int64\n",
      "Validation set class distribution:\n",
      " cancer\n",
      "0    195\n",
      "1    185\n",
      "Name: count, dtype: int64\n",
      "Test set class distribution:\n",
      " cancer\n",
      "0    244\n",
      "1    231\n",
      "Name: count, dtype: int64\n"
     ]
    }
   ],
   "source": [
    "# Check the distribution after splitting\n",
    "print(\"Train set class distribution:\\n\", train_df['cancer'].value_counts())\n",
    "print(\"Validation set class distribution:\\n\", val_df['cancer'].value_counts())\n",
    "print(\"Test set class distribution:\\n\", test_df['cancer'].value_counts())"
   ]
  },
  {
   "cell_type": "code",
   "execution_count": null,
   "metadata": {},
   "outputs": [],
   "source": [
    "# Create directories if they don't exist\n",
    "base_dir = '../Sample BCD/images'\n",
    "for split in [\"train\", \"val\", \"test\"]:\n",
    "    for category in [\"cancer\", \"normal\"]:\n",
    "        os.makedirs(os.path.join(base_dir, split, category), exist_ok=True)"
   ]
  },
  {
   "cell_type": "code",
   "execution_count": null,
   "metadata": {},
   "outputs": [
    {
     "name": "stdout",
     "output_type": "stream",
     "text": [
      "Images have been moved to respective folders.\n"
     ]
    }
   ],
   "source": [
    "# Function to move images\n",
    "def move_images(data, split):\n",
    "    for _, row in data.iterrows():\n",
    "        image_path = row['image_path']  # Path to the DICOM image\n",
    "        label = 'cancer' if row['cancer'] == 1 else 'normal'\n",
    "        \n",
    "        dest_path = os.path.join(base_dir, split, label, os.path.basename(image_path))\n",
    "        shutil.copy(image_path, dest_path)  # Copy image to the new location\n",
    "\n",
    "# Move the images to corresponding folders\n",
    "move_images(train_df, \"train\")\n",
    "move_images(val_df, \"val\")\n",
    "move_images(test_df, \"test\")\n",
    "\n",
    "print(\"Images have been moved to respective folders.\")"
   ]
  }
 ],
 "metadata": {
  "language_info": {
   "name": "python"
  }
 },
 "nbformat": 4,
 "nbformat_minor": 2
}
