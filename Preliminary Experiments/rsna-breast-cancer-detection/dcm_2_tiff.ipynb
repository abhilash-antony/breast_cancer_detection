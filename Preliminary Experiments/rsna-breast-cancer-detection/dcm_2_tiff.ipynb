{
 "cells": [
  {
   "cell_type": "code",
   "execution_count": 1,
   "metadata": {},
   "outputs": [],
   "source": [
    "import os\n",
    "import shutil\n",
    "import pandas as pd\n",
    "import numpy as np\n",
    "from PIL import Image\n",
    "import pydicom\n",
    "from rich.progress import Progress"
   ]
  },
  {
   "cell_type": "markdown",
   "metadata": {},
   "source": [
    "### **COPY ONLY cancer to NEW FOLDER**"
   ]
  },
  {
   "cell_type": "markdown",
   "metadata": {},
   "source": [
    "* First i did it on cancerous images and now, i am repeating the same for normal images. \n",
    "* finally, after this is over, may be we could make the data balanced by removing bad images"
   ]
  },
  {
   "cell_type": "code",
   "execution_count": 49,
   "metadata": {},
   "outputs": [
    {
     "data": {
      "text/html": [
       "<div>\n",
       "<style scoped>\n",
       "    .dataframe tbody tr th:only-of-type {\n",
       "        vertical-align: middle;\n",
       "    }\n",
       "\n",
       "    .dataframe tbody tr th {\n",
       "        vertical-align: top;\n",
       "    }\n",
       "\n",
       "    .dataframe thead th {\n",
       "        text-align: right;\n",
       "    }\n",
       "</style>\n",
       "<table border=\"1\" class=\"dataframe\">\n",
       "  <thead>\n",
       "    <tr style=\"text-align: right;\">\n",
       "      <th></th>\n",
       "      <th>site_id</th>\n",
       "      <th>patient_id</th>\n",
       "      <th>image_id</th>\n",
       "      <th>laterality</th>\n",
       "      <th>view</th>\n",
       "      <th>age</th>\n",
       "      <th>cancer</th>\n",
       "      <th>biopsy</th>\n",
       "      <th>invasive</th>\n",
       "      <th>implant</th>\n",
       "      <th>machine_id</th>\n",
       "      <th>difficult_negative_case</th>\n",
       "      <th>image_path</th>\n",
       "    </tr>\n",
       "  </thead>\n",
       "  <tbody>\n",
       "    <tr>\n",
       "      <th>0</th>\n",
       "      <td>1</td>\n",
       "      <td>1014</td>\n",
       "      <td>629904228</td>\n",
       "      <td>L</td>\n",
       "      <td>MLO</td>\n",
       "      <td>76.0</td>\n",
       "      <td>0</td>\n",
       "      <td>0</td>\n",
       "      <td>0</td>\n",
       "      <td>0</td>\n",
       "      <td>49</td>\n",
       "      <td>False</td>\n",
       "      <td>IMG\\629904228.dcm</td>\n",
       "    </tr>\n",
       "    <tr>\n",
       "      <th>1</th>\n",
       "      <td>1</td>\n",
       "      <td>1014</td>\n",
       "      <td>669597068</td>\n",
       "      <td>L</td>\n",
       "      <td>CC</td>\n",
       "      <td>76.0</td>\n",
       "      <td>0</td>\n",
       "      <td>0</td>\n",
       "      <td>0</td>\n",
       "      <td>0</td>\n",
       "      <td>49</td>\n",
       "      <td>False</td>\n",
       "      <td>IMG\\669597068.dcm</td>\n",
       "    </tr>\n",
       "    <tr>\n",
       "      <th>2</th>\n",
       "      <td>1</td>\n",
       "      <td>1014</td>\n",
       "      <td>229558076</td>\n",
       "      <td>R</td>\n",
       "      <td>MLO</td>\n",
       "      <td>76.0</td>\n",
       "      <td>0</td>\n",
       "      <td>0</td>\n",
       "      <td>0</td>\n",
       "      <td>0</td>\n",
       "      <td>49</td>\n",
       "      <td>False</td>\n",
       "      <td>IMG\\229558076.dcm</td>\n",
       "    </tr>\n",
       "    <tr>\n",
       "      <th>3</th>\n",
       "      <td>1</td>\n",
       "      <td>1014</td>\n",
       "      <td>1173679750</td>\n",
       "      <td>R</td>\n",
       "      <td>CC</td>\n",
       "      <td>76.0</td>\n",
       "      <td>0</td>\n",
       "      <td>0</td>\n",
       "      <td>0</td>\n",
       "      <td>0</td>\n",
       "      <td>49</td>\n",
       "      <td>False</td>\n",
       "      <td>IMG\\1173679750.dcm</td>\n",
       "    </tr>\n",
       "    <tr>\n",
       "      <th>4</th>\n",
       "      <td>1</td>\n",
       "      <td>10208</td>\n",
       "      <td>638273415</td>\n",
       "      <td>L</td>\n",
       "      <td>MLO</td>\n",
       "      <td>56.0</td>\n",
       "      <td>0</td>\n",
       "      <td>0</td>\n",
       "      <td>0</td>\n",
       "      <td>0</td>\n",
       "      <td>49</td>\n",
       "      <td>True</td>\n",
       "      <td>IMG\\638273415.dcm</td>\n",
       "    </tr>\n",
       "  </tbody>\n",
       "</table>\n",
       "</div>"
      ],
      "text/plain": [
       "   site_id  patient_id    image_id laterality view   age  cancer  biopsy  \\\n",
       "0        1        1014   629904228          L  MLO  76.0       0       0   \n",
       "1        1        1014   669597068          L   CC  76.0       0       0   \n",
       "2        1        1014   229558076          R  MLO  76.0       0       0   \n",
       "3        1        1014  1173679750          R   CC  76.0       0       0   \n",
       "4        1       10208   638273415          L  MLO  56.0       0       0   \n",
       "\n",
       "   invasive  implant  machine_id  difficult_negative_case          image_path  \n",
       "0         0        0          49                    False   IMG\\629904228.dcm  \n",
       "1         0        0          49                    False   IMG\\669597068.dcm  \n",
       "2         0        0          49                    False   IMG\\229558076.dcm  \n",
       "3         0        0          49                    False  IMG\\1173679750.dcm  \n",
       "4         0        0          49                     True   IMG\\638273415.dcm  "
      ]
     },
     "execution_count": 49,
     "metadata": {},
     "output_type": "execute_result"
    }
   ],
   "source": [
    "df = pd.read_csv('RSNA_breast_cancer_data.csv')\n",
    "df.head()"
   ]
  },
  {
   "cell_type": "code",
   "execution_count": 54,
   "metadata": {},
   "outputs": [],
   "source": [
    "def copy_images(df, src_folder, dest_folder, label):\n",
    "    # Filter the dataframe for cancerous images (cancer == 1)\n",
    "    path_images = df[df['cancer'] == label]['image_path']\n",
    "\n",
    "    # Copy each cancerous image to the destination folder\n",
    "    for image_path in path_images:\n",
    "        src_path = os.path.join(src_folder, os.path.basename(image_path))\n",
    "        dest_path = os.path.join(dest_folder, os.path.basename(image_path))\n",
    "\n",
    "        # Check if the source image exists before copying\n",
    "        if os.path.exists(src_path):\n",
    "            shutil.copy(src_path, dest_path)\n",
    "\n",
    "    print(f\"Copied {len(path_images)} images to '{dest_folder}'.\")"
   ]
  },
  {
   "cell_type": "code",
   "execution_count": null,
   "metadata": {},
   "outputs": [
    {
     "name": "stdout",
     "output_type": "stream",
     "text": [
      "Copied 1156 cancerous images to 'CANCER_IMG'.\n",
      "Completed copying cancerous images.\n"
     ]
    }
   ],
   "source": [
    "src_folder = 'IMG'  # Folder where your DICOM images are located\n",
    "dest_folder = 'CANCER_IMG'  # Folder where cancerous images will be copied\n",
    "\n",
    "copy_images(df, src_folder, dest_folder, label=1)"
   ]
  },
  {
   "cell_type": "code",
   "execution_count": 55,
   "metadata": {},
   "outputs": [
    {
     "name": "stdout",
     "output_type": "stream",
     "text": [
      "Copied 1218 images to 'NORMAL_IMG'.\n"
     ]
    }
   ],
   "source": [
    "# normal images\n",
    "src_folder = 'IMG'  # Folder where your DICOM images are located\n",
    "dest_folder = 'NORMAL_IMG'  # Folder where cancerous images will be copied\n",
    "label = 0\n",
    "\n",
    "copy_images(df, src_folder, dest_folder, label)"
   ]
  },
  {
   "cell_type": "markdown",
   "metadata": {},
   "source": [
    "### **Convert DCM to TIFF**"
   ]
  },
  {
   "cell_type": "code",
   "execution_count": 57,
   "metadata": {},
   "outputs": [],
   "source": [
    "# Function to load and convert DICOM image to grayscale TIFF format\n",
    "def load_dicom_image(path):\n",
    "    dicom_image = pydicom.dcmread(path)\n",
    "    img_array = dicom_image.pixel_array\n",
    "\n",
    "    # Normalize the pixel array values to the 0-255 range for grayscale images\n",
    "    img_array = img_array.astype(np.float32)  # Convert to float for scaling\n",
    "    img_array -= np.min(img_array)  # Shift the minimum value to 0\n",
    "    img_array /= np.max(img_array)  # Scale to a range of 0 to 1\n",
    "    img_array *= 255.0  # Scale to a range of 0 to 255\n",
    "    img_array = img_array.astype(np.uint8)  # Convert to unsigned 8-bit integer\n",
    "\n",
    "    # Create a grayscale image from the array\n",
    "    img = Image.fromarray(img_array, mode='L')  # 'L' mode is for grayscale images\n",
    "    return img"
   ]
  },
  {
   "cell_type": "code",
   "execution_count": 58,
   "metadata": {},
   "outputs": [],
   "source": [
    "# Function to process all DICOM files in the folder\n",
    "def process_dicom_folder(input_folder, output_folder):\n",
    "    # Create the output folder if it doesn't exist\n",
    "    if not os.path.exists(output_folder):\n",
    "        os.makedirs(output_folder)\n",
    "\n",
    "    # Loop through all files in the input folder\n",
    "    for filename in os.listdir(input_folder):\n",
    "        # Check if the file is a DICOM file (ends with .dcm)\n",
    "        if filename.lower().endswith('.dcm'):\n",
    "            input_path = os.path.join(input_folder, filename)\n",
    "            output_path = os.path.join(output_folder, f\"{os.path.splitext(filename)[0]}.tiff\")  # Save as tiff\n",
    "\n",
    "            # Load and convert the DICOM file\n",
    "            img = load_dicom_image(input_path)\n",
    "            img.save(output_path, format='TIFF')\n",
    "\n",
    "    print(f\"Converted {len(os.listdir(output_folder))} images into TIFF to '{output_folder}'.\")"
   ]
  },
  {
   "cell_type": "code",
   "execution_count": 60,
   "metadata": {},
   "outputs": [
    {
     "name": "stdout",
     "output_type": "stream",
     "text": [
      "Converted 1218 images into TIFF to 'NORMAL_IMG_TIFF'.\n"
     ]
    }
   ],
   "source": [
    "input_folder = 'NORMAL_IMG'  # Replace with the path to your DICOM files\n",
    "output_folder = 'NORMAL_IMG_TIFF'  # Folder where converted images will be saved\n",
    "\n",
    "# Process all DICOM files in the folder\n",
    "process_dicom_folder(input_folder, output_folder)       "
   ]
  },
  {
   "cell_type": "markdown",
   "metadata": {},
   "source": [
    "### **BELOW code INVERTS THE COLOUR PIXELS**"
   ]
  },
  {
   "cell_type": "code",
   "execution_count": 62,
   "metadata": {},
   "outputs": [],
   "source": [
    "# Function to load and convert DICOM image to grayscale TIFF with conditional inversion\n",
    "def load_dicom_image(path):\n",
    "    dicom_image = pydicom.dcmread(path)\n",
    "    img_array = dicom_image.pixel_array\n",
    "\n",
    "    # Normalize the pixel array values to the 0-255 range for grayscale images\n",
    "    img_array = img_array.astype(np.float32)  # Convert to float for scaling\n",
    "    img_array -= np.min(img_array)  # Shift the minimum value to 0\n",
    "    img_array /= np.max(img_array)  # Scale to a range of 0 to 1\n",
    "    img_array *= 255.0  # Scale to a range of 0 to 255\n",
    "    img_array = img_array.astype(np.uint8) \n",
    "    img_array = 255 - img_array  # Invert the image\n",
    "\n",
    "    # Create a grayscale image from the array\n",
    "    img = Image.fromarray(img_array, mode='L')  # 'L' mode is for grayscale images\n",
    "    return img\n",
    "\n",
    "# Load and convert the DICOM file to grayscale TIFF\n",
    "img = load_dicom_image('IMG/292544568.dcm')\n",
    "\n",
    "# Save the image as TIFF\n",
    "img.save('smpl2.tiff', format='TIFF')"
   ]
  },
  {
   "cell_type": "code",
   "execution_count": 63,
   "metadata": {},
   "outputs": [],
   "source": [
    "# Function to load and invert the DICOM image\n",
    "def load_dicom_image(path):\n",
    "    dicom_image = pydicom.dcmread(path)\n",
    "    img_array = dicom_image.pixel_array\n",
    "\n",
    "    # Normalize the pixel array values to the 0-255 range for grayscale images\n",
    "    img_array = img_array.astype(np.float32)  # Convert to float for scaling\n",
    "    img_array -= np.min(img_array)  # Shift the minimum value to 0\n",
    "    img_array /= np.max(img_array)  # Scale to a range of 0 to 1\n",
    "    img_array *= 255.0  # Scale to a range of 0 to 255\n",
    "    img_array = img_array.astype(np.uint8) \n",
    "    img_array = 255 - img_array  # Invert the image\n",
    "\n",
    "    # Create a grayscale image from the array\n",
    "    img = Image.fromarray(img_array, mode='L')  # 'L' mode is for grayscale images\n",
    "    return img"
   ]
  },
  {
   "cell_type": "code",
   "execution_count": 64,
   "metadata": {},
   "outputs": [],
   "source": [
    "# Function to process DICOM files and invert colors if needed\n",
    "def process_cancer_dicom_images(input_folder, tiff_folder, inverted_folder):\n",
    "    # Create the 'CANCER_IMG_INVERTED' folder if it doesn't exist\n",
    "    if not os.path.exists(inverted_folder):\n",
    "        os.makedirs(inverted_folder)\n",
    "\n",
    "    dicom_files = [f for f in os.listdir(input_folder) if f.lower().endswith('.dcm')]\n",
    "    \n",
    "    for filename in dicom_files:\n",
    "        tiff_file = f\"{os.path.splitext(filename)[0]}.tiff\"\n",
    "        tiff_path = os.path.join(tiff_folder, tiff_file)\n",
    "        \n",
    "        # Check if the corresponding TIFF image already exists\n",
    "        if not os.path.exists(tiff_path):\n",
    "            input_path = os.path.join(input_folder, filename)\n",
    "            output_path = os.path.join(inverted_folder, tiff_file)  # Save inverted image as TIFF\n",
    "            \n",
    "            # Invert the DICOM image\n",
    "            img = load_dicom_image(input_path)\n",
    "            \n",
    "            # Save the inverted image to 'CANCER_IMG_INVERTED' folder\n",
    "            img.save(output_path, format='TIFF')\n",
    "\n",
    "    print(f\"Inverted and saved new images in '{inverted_folder}'.\")"
   ]
  },
  {
   "cell_type": "code",
   "execution_count": 65,
   "metadata": {},
   "outputs": [
    {
     "name": "stdout",
     "output_type": "stream",
     "text": [
      "Inverted and saved new images in 'NORMAL_IMG_INVERTED'.\n"
     ]
    }
   ],
   "source": [
    "input_folder = 'NORMAL_IMG'  # Folder where your cancerous DICOM images are located\n",
    "tiff_folder = 'NORMAL_IMG_TIFF'  # Folder where already processed TIFF images are located\n",
    "inverted_folder = 'NORMAL_IMG_INVERTED'  # Folder where new inverted images will be saved\n",
    "\n",
    "# Process and invert images that are not already in the TIFF folder\n",
    "process_cancer_dicom_images(input_folder, tiff_folder, inverted_folder)"
   ]
  }
 ],
 "metadata": {
  "kernelspec": {
   "display_name": "Python 3",
   "language": "python",
   "name": "python3"
  },
  "language_info": {
   "codemirror_mode": {
    "name": "ipython",
    "version": 3
   },
   "file_extension": ".py",
   "mimetype": "text/x-python",
   "name": "python",
   "nbconvert_exporter": "python",
   "pygments_lexer": "ipython3",
   "version": "3.12.8"
  }
 },
 "nbformat": 4,
 "nbformat_minor": 2
}
