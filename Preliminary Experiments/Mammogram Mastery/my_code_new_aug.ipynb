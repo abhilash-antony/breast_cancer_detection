{
 "cells": [
  {
   "cell_type": "code",
   "execution_count": 5,
   "metadata": {},
   "outputs": [],
   "source": [
    "import os\n",
    "import numpy as np\n",
    "import albumentations as A\n",
    "from PIL import Image\n",
    "\n",
    "# Set up augmentation parameters for horizontal flip, vertical flip, and sharpening\n",
    "horizontal_flip = A.HorizontalFlip(p=1)  # horizontal flip\n",
    "vertical_flip = A.VerticalFlip(p=1)      # vertical flip\n",
    "sharpen = A.Sharpen(p=1)                 # sharpening\n",
    "\n",
    "# Load original images\n",
    "original_folder = r\"Breast Cancer Dataset\\Original Dataset\"\n",
    "augmented_folder_cancer = r\"Breast Cancer Dataset\\NEW_AUG\\cancer\"\n",
    "augmented_folder_normal = r\"Breast Cancer Dataset\\NEW_AUG\\normal\"\n",
    "\n",
    "# Create augmented folders if they don't exist\n",
    "os.makedirs(augmented_folder_cancer, exist_ok=True)\n",
    "os.makedirs(augmented_folder_normal, exist_ok=True)\n"
   ]
  },
  {
   "cell_type": "code",
   "execution_count": 6,
   "metadata": {},
   "outputs": [],
   "source": [
    "# Function to augment and save images with appropriate naming\n",
    "def augment_and_save_images(category_folder, augmented_folder):\n",
    "    for filename in os.listdir(category_folder):\n",
    "        img_path = os.path.join(category_folder, filename)\n",
    "        original_image = np.array(Image.open(img_path))\n",
    "        \n",
    "        # Perform and save each augmentation separately\n",
    "        augmentations = {\n",
    "            'HorizontalFlip': horizontal_flip,\n",
    "            'VerticalFlip': vertical_flip,\n",
    "            'Sharpen': sharpen\n",
    "        }\n",
    "        \n",
    "        for aug_name, aug_transform in augmentations.items():\n",
    "            augmented = aug_transform(image=original_image)\n",
    "            augmented_image = augmented['image']\n",
    "            \n",
    "            # Save the augmented image with an appropriate name\n",
    "            augmented_name = f\"{filename.split('.')[0]}_{aug_name}.{filename.split('.')[-1]}\"\n",
    "            augmented_path = os.path.join(augmented_folder, augmented_name)\n",
    "            Image.fromarray(augmented_image).save(augmented_path)"
   ]
  },
  {
   "cell_type": "code",
   "execution_count": 7,
   "metadata": {},
   "outputs": [],
   "source": [
    "# Augment and save cancer images\n",
    "augment_and_save_images(os.path.join(original_folder, 'Cancer'), augmented_folder_cancer)"
   ]
  },
  {
   "cell_type": "code",
   "execution_count": 8,
   "metadata": {},
   "outputs": [],
   "source": [
    "# Augment and save normal images\n",
    "augment_and_save_images(os.path.join(original_folder, 'Non-Cancer'), augmented_folder_normal)"
   ]
  }
 ],
 "metadata": {
  "kernelspec": {
   "display_name": "Python 3",
   "language": "python",
   "name": "python3"
  },
  "language_info": {
   "codemirror_mode": {
    "name": "ipython",
    "version": 3
   },
   "file_extension": ".py",
   "mimetype": "text/x-python",
   "name": "python",
   "nbconvert_exporter": "python",
   "pygments_lexer": "ipython3",
   "version": "3.12.8"
  }
 },
 "nbformat": 4,
 "nbformat_minor": 2
}
