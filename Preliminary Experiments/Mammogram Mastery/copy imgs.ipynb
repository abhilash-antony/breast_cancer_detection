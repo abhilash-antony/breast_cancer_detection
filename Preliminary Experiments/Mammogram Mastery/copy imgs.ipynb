{
 "cells": [
  {
   "cell_type": "code",
   "execution_count": 1,
   "metadata": {},
   "outputs": [],
   "source": [
    "import tensorflow as tf\n",
    "import numpy as np\n",
    "import matplotlib.pyplot as plt\n",
    "import os, random\n",
    "from sklearn.metrics import confusion_matrix, classification_report\n",
    "\n",
    "# Set seeds for reproducibility\n",
    "tf.random.set_seed(123)\n",
    "np.random.seed(123)\n",
    "random.seed(123)"
   ]
  },
  {
   "cell_type": "code",
   "execution_count": 2,
   "metadata": {},
   "outputs": [],
   "source": [
    "# Configuration parameters\n",
    "DATASET_DIR =  \"Dataset\"\n",
    "BATCH_SIZE = 32\n",
    "IMG_SIZE = (224, 224)     \n",
    "INITIAL_EPOCHS = 10\n",
    "FINE_TUNE_EPOCHS = 10"
   ]
  },
  {
   "cell_type": "code",
   "execution_count": 3,
   "metadata": {},
   "outputs": [
    {
     "name": "stdout",
     "output_type": "stream",
     "text": [
      "Found 9685 files belonging to 2 classes.\n",
      "Using 7748 files for training.\n",
      "Found 9685 files belonging to 2 classes.\n",
      "Using 1937 files for validation.\n",
      "Classes found: ['Cancer', 'Non-Cancer']\n"
     ]
    }
   ],
   "source": [
    "# Load training and validation datasets\n",
    "train_ds = tf.keras.preprocessing.image_dataset_from_directory(\n",
    "    DATASET_DIR,\n",
    "    validation_split=0.2,\n",
    "    subset=\"training\",\n",
    "    seed=123,\n",
    "    image_size=IMG_SIZE,\n",
    "    batch_size=BATCH_SIZE\n",
    ")\n",
    "val_ds = tf.keras.preprocessing.image_dataset_from_directory(\n",
    "    DATASET_DIR,\n",
    "    validation_split=0.2,\n",
    "    subset=\"validation\",\n",
    "    seed=123,\n",
    "    image_size=IMG_SIZE,\n",
    "    batch_size=BATCH_SIZE\n",
    ")\n",
    "print(\"Classes found:\", train_ds.class_names)"
   ]
  },
  {
   "cell_type": "code",
   "execution_count": 6,
   "metadata": {},
   "outputs": [
    {
     "name": "stderr",
     "output_type": "stream",
     "text": [
      "Copying validation images: 100%|██████████| 1937/1937 [00:02<00:00, 762.80it/s]"
     ]
    },
    {
     "name": "stdout",
     "output_type": "stream",
     "text": [
      "All validation images have been copied to Validation\n"
     ]
    },
    {
     "name": "stderr",
     "output_type": "stream",
     "text": [
      "\n"
     ]
    }
   ],
   "source": [
    "import os\n",
    "import shutil\n",
    "from tqdm import tqdm\n",
    "\n",
    "# Define the destination directory for validation images\n",
    "dest_validation_dir = \"Validation\"\n",
    "\n",
    "# Create the destination directory if it doesn't exist\n",
    "os.makedirs(dest_validation_dir, exist_ok=True)\n",
    "\n",
    "# Iterate over the file paths in val_ds\n",
    "for file_path in tqdm(val_ds.file_paths, desc=\"Copying validation images\"):\n",
    "    # Get the class name from the file path\n",
    "    class_name = os.path.basename(os.path.dirname(file_path))\n",
    "    \n",
    "    # Create a subdirectory in the destination for the class\n",
    "    dest_class_dir = os.path.join(dest_validation_dir, class_name)\n",
    "    os.makedirs(dest_class_dir, exist_ok=True)\n",
    "    \n",
    "    # Build the destination file path and copy the file\n",
    "    dest_file_path = os.path.join(dest_class_dir, os.path.basename(file_path))\n",
    "    shutil.copy(file_path, dest_file_path)\n",
    "    # print(f\"Copied {file_path} to {dest_file_path}\")\n",
    "\n",
    "print(\"All validation images have been copied to\", dest_validation_dir)"
   ]
  }
 ],
 "metadata": {
  "kernelspec": {
   "display_name": "Python 3",
   "language": "python",
   "name": "python3"
  },
  "language_info": {
   "codemirror_mode": {
    "name": "ipython",
    "version": 3
   },
   "file_extension": ".py",
   "mimetype": "text/x-python",
   "name": "python",
   "nbconvert_exporter": "python",
   "pygments_lexer": "ipython3",
   "version": "3.12.8"
  }
 },
 "nbformat": 4,
 "nbformat_minor": 2
}
